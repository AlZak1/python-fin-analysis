{
 "cells": [
  {
   "cell_type": "markdown",
   "metadata": {},
   "source": [
    "# Volatility, SMA, and EMA\n",
    "\n",
    "## Calculating\n",
    "\n",
    "* Pct change\n",
    "* Log returns\n",
    "* Standard deviation(Volatility)\n",
    "* Rollinng\n",
    "  * Simple Moving Average\n",
    "  * Exponential Moving Average\n",
    "  \n",
    "## Standard deviation\n",
    "\n",
    "* $\\sigma_{p} = \\sigma_{monthly}\\times \\sqrt{p}$\n",
    "\n",
    "* $\\sigma_{annually} = \\sigma_{monthly}\\times \\sqrt{12}$\n",
    "\n",
    "### (252 trading days per year)"
   ]
  },
  {
   "cell_type": "code",
   "execution_count": 2,
   "metadata": {},
   "outputs": [],
   "source": [
    "import pandas as pd\n",
    "import matplotlib.pyplot as plt\n",
    "%matplotlib notebook"
   ]
  },
  {
   "cell_type": "code",
   "execution_count": 3,
   "metadata": {},
   "outputs": [],
   "source": [
    "data = pd.read_csv('BJ.csv', index_col=0, parse_dates=True)"
   ]
  },
  {
   "cell_type": "code",
   "execution_count": 4,
   "metadata": {},
   "outputs": [
    {
     "data": {
      "text/html": [
       "<div>\n",
       "<style scoped>\n",
       "    .dataframe tbody tr th:only-of-type {\n",
       "        vertical-align: middle;\n",
       "    }\n",
       "\n",
       "    .dataframe tbody tr th {\n",
       "        vertical-align: top;\n",
       "    }\n",
       "\n",
       "    .dataframe thead th {\n",
       "        text-align: right;\n",
       "    }\n",
       "</style>\n",
       "<table border=\"1\" class=\"dataframe\">\n",
       "  <thead>\n",
       "    <tr style=\"text-align: right;\">\n",
       "      <th></th>\n",
       "      <th>Open</th>\n",
       "      <th>High</th>\n",
       "      <th>Low</th>\n",
       "      <th>Close</th>\n",
       "      <th>Adj Close</th>\n",
       "      <th>Volume</th>\n",
       "    </tr>\n",
       "    <tr>\n",
       "      <th>Date</th>\n",
       "      <th></th>\n",
       "      <th></th>\n",
       "      <th></th>\n",
       "      <th></th>\n",
       "      <th></th>\n",
       "      <th></th>\n",
       "    </tr>\n",
       "  </thead>\n",
       "  <tbody>\n",
       "    <tr>\n",
       "      <td>2018-07-01</td>\n",
       "      <td>23.209999</td>\n",
       "      <td>27.459999</td>\n",
       "      <td>22.879999</td>\n",
       "      <td>24.790001</td>\n",
       "      <td>24.790001</td>\n",
       "      <td>25833200</td>\n",
       "    </tr>\n",
       "    <tr>\n",
       "      <td>2018-08-01</td>\n",
       "      <td>24.750000</td>\n",
       "      <td>31.580000</td>\n",
       "      <td>24.299999</td>\n",
       "      <td>29.500000</td>\n",
       "      <td>29.500000</td>\n",
       "      <td>22695800</td>\n",
       "    </tr>\n",
       "    <tr>\n",
       "      <td>2018-09-01</td>\n",
       "      <td>29.500000</td>\n",
       "      <td>32.919998</td>\n",
       "      <td>25.799999</td>\n",
       "      <td>26.780001</td>\n",
       "      <td>26.780001</td>\n",
       "      <td>48341500</td>\n",
       "    </tr>\n",
       "    <tr>\n",
       "      <td>2018-10-01</td>\n",
       "      <td>26.900000</td>\n",
       "      <td>27.670000</td>\n",
       "      <td>20.330000</td>\n",
       "      <td>22.150000</td>\n",
       "      <td>22.150000</td>\n",
       "      <td>42620300</td>\n",
       "    </tr>\n",
       "    <tr>\n",
       "      <td>2018-11-01</td>\n",
       "      <td>22.379999</td>\n",
       "      <td>24.830000</td>\n",
       "      <td>19.309999</td>\n",
       "      <td>23.360001</td>\n",
       "      <td>23.360001</td>\n",
       "      <td>37619400</td>\n",
       "    </tr>\n",
       "  </tbody>\n",
       "</table>\n",
       "</div>"
      ],
      "text/plain": [
       "                 Open       High        Low      Close  Adj Close    Volume\n",
       "Date                                                                       \n",
       "2018-07-01  23.209999  27.459999  22.879999  24.790001  24.790001  25833200\n",
       "2018-08-01  24.750000  31.580000  24.299999  29.500000  29.500000  22695800\n",
       "2018-09-01  29.500000  32.919998  25.799999  26.780001  26.780001  48341500\n",
       "2018-10-01  26.900000  27.670000  20.330000  22.150000  22.150000  42620300\n",
       "2018-11-01  22.379999  24.830000  19.309999  23.360001  23.360001  37619400"
      ]
     },
     "execution_count": 4,
     "metadata": {},
     "output_type": "execute_result"
    }
   ],
   "source": [
    "data.head()"
   ]
  },
  {
   "cell_type": "code",
   "execution_count": 5,
   "metadata": {},
   "outputs": [],
   "source": [
    "data['%-chg'] = data['Close'].pct_change()"
   ]
  },
  {
   "cell_type": "code",
   "execution_count": 6,
   "metadata": {},
   "outputs": [
    {
     "data": {
      "text/html": [
       "<div>\n",
       "<style scoped>\n",
       "    .dataframe tbody tr th:only-of-type {\n",
       "        vertical-align: middle;\n",
       "    }\n",
       "\n",
       "    .dataframe tbody tr th {\n",
       "        vertical-align: top;\n",
       "    }\n",
       "\n",
       "    .dataframe thead th {\n",
       "        text-align: right;\n",
       "    }\n",
       "</style>\n",
       "<table border=\"1\" class=\"dataframe\">\n",
       "  <thead>\n",
       "    <tr style=\"text-align: right;\">\n",
       "      <th></th>\n",
       "      <th>Open</th>\n",
       "      <th>High</th>\n",
       "      <th>Low</th>\n",
       "      <th>Close</th>\n",
       "      <th>Adj Close</th>\n",
       "      <th>Volume</th>\n",
       "      <th>%-chg</th>\n",
       "    </tr>\n",
       "    <tr>\n",
       "      <th>Date</th>\n",
       "      <th></th>\n",
       "      <th></th>\n",
       "      <th></th>\n",
       "      <th></th>\n",
       "      <th></th>\n",
       "      <th></th>\n",
       "      <th></th>\n",
       "    </tr>\n",
       "  </thead>\n",
       "  <tbody>\n",
       "    <tr>\n",
       "      <td>2018-07-01</td>\n",
       "      <td>23.209999</td>\n",
       "      <td>27.459999</td>\n",
       "      <td>22.879999</td>\n",
       "      <td>24.790001</td>\n",
       "      <td>24.790001</td>\n",
       "      <td>25833200</td>\n",
       "      <td>NaN</td>\n",
       "    </tr>\n",
       "    <tr>\n",
       "      <td>2018-08-01</td>\n",
       "      <td>24.750000</td>\n",
       "      <td>31.580000</td>\n",
       "      <td>24.299999</td>\n",
       "      <td>29.500000</td>\n",
       "      <td>29.500000</td>\n",
       "      <td>22695800</td>\n",
       "      <td>0.189996</td>\n",
       "    </tr>\n",
       "    <tr>\n",
       "      <td>2018-09-01</td>\n",
       "      <td>29.500000</td>\n",
       "      <td>32.919998</td>\n",
       "      <td>25.799999</td>\n",
       "      <td>26.780001</td>\n",
       "      <td>26.780001</td>\n",
       "      <td>48341500</td>\n",
       "      <td>-0.092203</td>\n",
       "    </tr>\n",
       "    <tr>\n",
       "      <td>2018-10-01</td>\n",
       "      <td>26.900000</td>\n",
       "      <td>27.670000</td>\n",
       "      <td>20.330000</td>\n",
       "      <td>22.150000</td>\n",
       "      <td>22.150000</td>\n",
       "      <td>42620300</td>\n",
       "      <td>-0.172890</td>\n",
       "    </tr>\n",
       "    <tr>\n",
       "      <td>2018-11-01</td>\n",
       "      <td>22.379999</td>\n",
       "      <td>24.830000</td>\n",
       "      <td>19.309999</td>\n",
       "      <td>23.360001</td>\n",
       "      <td>23.360001</td>\n",
       "      <td>37619400</td>\n",
       "      <td>0.054628</td>\n",
       "    </tr>\n",
       "  </tbody>\n",
       "</table>\n",
       "</div>"
      ],
      "text/plain": [
       "                 Open       High        Low      Close  Adj Close    Volume  \\\n",
       "Date                                                                          \n",
       "2018-07-01  23.209999  27.459999  22.879999  24.790001  24.790001  25833200   \n",
       "2018-08-01  24.750000  31.580000  24.299999  29.500000  29.500000  22695800   \n",
       "2018-09-01  29.500000  32.919998  25.799999  26.780001  26.780001  48341500   \n",
       "2018-10-01  26.900000  27.670000  20.330000  22.150000  22.150000  42620300   \n",
       "2018-11-01  22.379999  24.830000  19.309999  23.360001  23.360001  37619400   \n",
       "\n",
       "               %-chg  \n",
       "Date                  \n",
       "2018-07-01       NaN  \n",
       "2018-08-01  0.189996  \n",
       "2018-09-01 -0.092203  \n",
       "2018-10-01 -0.172890  \n",
       "2018-11-01  0.054628  "
      ]
     },
     "execution_count": 6,
     "metadata": {},
     "output_type": "execute_result"
    }
   ],
   "source": [
    "data.head()"
   ]
  },
  {
   "cell_type": "code",
   "execution_count": 7,
   "metadata": {},
   "outputs": [
    {
     "data": {
      "text/plain": [
       "0.18999591811230665"
      ]
     },
     "execution_count": 7,
     "metadata": {},
     "output_type": "execute_result"
    }
   ],
   "source": [
    "(29.5 - 24.790001)/24.790001"
   ]
  },
  {
   "cell_type": "code",
   "execution_count": 9,
   "metadata": {},
   "outputs": [],
   "source": [
    "import numpy as np"
   ]
  },
  {
   "cell_type": "code",
   "execution_count": 10,
   "metadata": {},
   "outputs": [],
   "source": [
    "data['Log Returns'] = np.log(data['Close']/data['Close'].shift())"
   ]
  },
  {
   "cell_type": "code",
   "execution_count": 12,
   "metadata": {},
   "outputs": [
    {
     "data": {
      "text/html": [
       "<div>\n",
       "<style scoped>\n",
       "    .dataframe tbody tr th:only-of-type {\n",
       "        vertical-align: middle;\n",
       "    }\n",
       "\n",
       "    .dataframe tbody tr th {\n",
       "        vertical-align: top;\n",
       "    }\n",
       "\n",
       "    .dataframe thead th {\n",
       "        text-align: right;\n",
       "    }\n",
       "</style>\n",
       "<table border=\"1\" class=\"dataframe\">\n",
       "  <thead>\n",
       "    <tr style=\"text-align: right;\">\n",
       "      <th></th>\n",
       "      <th>Open</th>\n",
       "      <th>High</th>\n",
       "      <th>Low</th>\n",
       "      <th>Close</th>\n",
       "      <th>Adj Close</th>\n",
       "      <th>Volume</th>\n",
       "      <th>%-chg</th>\n",
       "      <th>Log Returns</th>\n",
       "    </tr>\n",
       "    <tr>\n",
       "      <th>Date</th>\n",
       "      <th></th>\n",
       "      <th></th>\n",
       "      <th></th>\n",
       "      <th></th>\n",
       "      <th></th>\n",
       "      <th></th>\n",
       "      <th></th>\n",
       "      <th></th>\n",
       "    </tr>\n",
       "  </thead>\n",
       "  <tbody>\n",
       "    <tr>\n",
       "      <td>2018-07-01</td>\n",
       "      <td>23.209999</td>\n",
       "      <td>27.459999</td>\n",
       "      <td>22.879999</td>\n",
       "      <td>24.790001</td>\n",
       "      <td>24.790001</td>\n",
       "      <td>25833200</td>\n",
       "      <td>NaN</td>\n",
       "      <td>NaN</td>\n",
       "    </tr>\n",
       "    <tr>\n",
       "      <td>2018-08-01</td>\n",
       "      <td>24.750000</td>\n",
       "      <td>31.580000</td>\n",
       "      <td>24.299999</td>\n",
       "      <td>29.500000</td>\n",
       "      <td>29.500000</td>\n",
       "      <td>22695800</td>\n",
       "      <td>0.189996</td>\n",
       "      <td>0.173950</td>\n",
       "    </tr>\n",
       "    <tr>\n",
       "      <td>2018-09-01</td>\n",
       "      <td>29.500000</td>\n",
       "      <td>32.919998</td>\n",
       "      <td>25.799999</td>\n",
       "      <td>26.780001</td>\n",
       "      <td>26.780001</td>\n",
       "      <td>48341500</td>\n",
       "      <td>-0.092203</td>\n",
       "      <td>-0.096735</td>\n",
       "    </tr>\n",
       "    <tr>\n",
       "      <td>2018-10-01</td>\n",
       "      <td>26.900000</td>\n",
       "      <td>27.670000</td>\n",
       "      <td>20.330000</td>\n",
       "      <td>22.150000</td>\n",
       "      <td>22.150000</td>\n",
       "      <td>42620300</td>\n",
       "      <td>-0.172890</td>\n",
       "      <td>-0.189818</td>\n",
       "    </tr>\n",
       "    <tr>\n",
       "      <td>2018-11-01</td>\n",
       "      <td>22.379999</td>\n",
       "      <td>24.830000</td>\n",
       "      <td>19.309999</td>\n",
       "      <td>23.360001</td>\n",
       "      <td>23.360001</td>\n",
       "      <td>37619400</td>\n",
       "      <td>0.054628</td>\n",
       "      <td>0.053188</td>\n",
       "    </tr>\n",
       "  </tbody>\n",
       "</table>\n",
       "</div>"
      ],
      "text/plain": [
       "                 Open       High        Low      Close  Adj Close    Volume  \\\n",
       "Date                                                                          \n",
       "2018-07-01  23.209999  27.459999  22.879999  24.790001  24.790001  25833200   \n",
       "2018-08-01  24.750000  31.580000  24.299999  29.500000  29.500000  22695800   \n",
       "2018-09-01  29.500000  32.919998  25.799999  26.780001  26.780001  48341500   \n",
       "2018-10-01  26.900000  27.670000  20.330000  22.150000  22.150000  42620300   \n",
       "2018-11-01  22.379999  24.830000  19.309999  23.360001  23.360001  37619400   \n",
       "\n",
       "               %-chg  Log Returns  \n",
       "Date                               \n",
       "2018-07-01       NaN          NaN  \n",
       "2018-08-01  0.189996     0.173950  \n",
       "2018-09-01 -0.092203    -0.096735  \n",
       "2018-10-01 -0.172890    -0.189818  \n",
       "2018-11-01  0.054628     0.053188  "
      ]
     },
     "execution_count": 12,
     "metadata": {},
     "output_type": "execute_result"
    }
   ],
   "source": [
    "data.head()"
   ]
  },
  {
   "cell_type": "code",
   "execution_count": 16,
   "metadata": {},
   "outputs": [
    {
     "data": {
      "text/plain": [
       "Date\n",
       "2018-07-01         NaN\n",
       "2018-08-01    1.189996\n",
       "2018-09-01    0.907797\n",
       "2018-10-01    0.827110\n",
       "2018-11-01    1.054628\n",
       "2018-12-01    0.948630\n",
       "2019-01-01    1.187274\n",
       "2019-02-01    0.962372\n",
       "2019-03-01    1.082148\n",
       "2019-04-01    1.034672\n",
       "2019-05-01    0.881129\n",
       "2019-06-01    1.056845\n",
       "2019-07-01    0.892424\n",
       "2019-08-01    1.114601\n",
       "2019-09-01    0.985149\n",
       "2019-10-01    1.032083\n",
       "2019-11-01    0.887640\n",
       "2019-12-01    0.959494\n",
       "2020-01-01    0.902375\n",
       "2020-02-01    0.938596\n",
       "2020-03-01    1.322430\n",
       "2020-04-01    1.032980\n",
       "2020-05-01    1.368301\n",
       "2020-06-01    1.035278\n",
       "2020-07-01    1.074591\n",
       "2020-08-01    1.108864\n",
       "2020-09-01    0.935600\n",
       "2020-10-01    0.921540\n",
       "2020-11-01    1.070515\n",
       "2020-12-01    0.909490\n",
       "2021-01-01    1.128487\n",
       "2021-02-01    0.955075\n",
       "2021-03-01    1.116476\n",
       "2021-04-01    0.995765\n",
       "2021-05-01    1.002686\n",
       "2021-06-01    1.062291\n",
       "2021-07-01    1.064313\n",
       "2021-08-01    1.118878\n",
       "2021-09-01    0.969290\n",
       "2021-10-01    1.064093\n",
       "2021-11-01    1.131930\n",
       "2021-12-01    1.012396\n",
       "2022-01-01    0.917874\n",
       "2022-02-01    1.022775\n",
       "2022-03-01    1.075394\n",
       "2022-04-01    0.951782\n",
       "2022-05-01    0.899301\n",
       "2022-06-01    1.076897\n",
       "2022-07-01    1.086329\n",
       "2022-08-01    1.100295\n",
       "2022-09-01    0.977447\n",
       "2022-10-01    1.063041\n",
       "2022-11-01    1.013824\n",
       "2022-11-15    1.000000\n",
       "Name: Close, dtype: float64"
      ]
     },
     "execution_count": 16,
     "metadata": {},
     "output_type": "execute_result"
    }
   ],
   "source": [
    "data['Close']/data['Close'].shift()"
   ]
  },
  {
   "cell_type": "code",
   "execution_count": 17,
   "metadata": {},
   "outputs": [
    {
     "data": {
      "text/plain": [
       "0.09917752858705947"
      ]
     },
     "execution_count": 17,
     "metadata": {},
     "output_type": "execute_result"
    }
   ],
   "source": [
    "data['Log Returns'].std()"
   ]
  },
  {
   "cell_type": "code",
   "execution_count": 18,
   "metadata": {},
   "outputs": [],
   "source": [
    "volatility = data['Log Returns'].std()*12**0.5"
   ]
  },
  {
   "cell_type": "code",
   "execution_count": 19,
   "metadata": {},
   "outputs": [
    {
     "data": {
      "text/plain": [
       "0.3435610369638035"
      ]
     },
     "execution_count": 19,
     "metadata": {},
     "output_type": "execute_result"
    }
   ],
   "source": [
    "volatility"
   ]
  },
  {
   "cell_type": "code",
   "execution_count": 20,
   "metadata": {},
   "outputs": [],
   "source": [
    "str_vol = str(round(volatility, 4)*100)"
   ]
  },
  {
   "cell_type": "code",
   "execution_count": 21,
   "metadata": {},
   "outputs": [
    {
     "data": {
      "text/plain": [
       "'34.36'"
      ]
     },
     "execution_count": 21,
     "metadata": {},
     "output_type": "execute_result"
    }
   ],
   "source": [
    "str_vol"
   ]
  },
  {
   "cell_type": "code",
   "execution_count": 30,
   "metadata": {},
   "outputs": [
    {
     "data": {
      "text/plain": [
       "Text(0.5, 1.0, 'BJ Volatility:34.36%')"
      ]
     },
     "execution_count": 30,
     "metadata": {},
     "output_type": "execute_result"
    },
    {
     "data": {
      "image/png": "[encoded data removed]",
      "text/plain": [
       "<Figure size 432x288 with 1 Axes>"
      ]
     },
     "metadata": {
      "needs_background": "light"
     },
     "output_type": "display_data"
    }
   ],
   "source": [
    "fig, ax = plt.subplots()\n",
    "data['Log Returns'].hist(ax=ax, bins=50, alpha=0.5, color='b')\n",
    "ax.set_title('BJ Volatility:' + str_vol + '%')"
   ]
  },
  {
   "cell_type": "code",
   "execution_count": 31,
   "metadata": {},
   "outputs": [
    {
     "data": {
      "text/html": [
       "<div>\n",
       "<style scoped>\n",
       "    .dataframe tbody tr th:only-of-type {\n",
       "        vertical-align: middle;\n",
       "    }\n",
       "\n",
       "    .dataframe tbody tr th {\n",
       "        vertical-align: top;\n",
       "    }\n",
       "\n",
       "    .dataframe thead th {\n",
       "        text-align: right;\n",
       "    }\n",
       "</style>\n",
       "<table border=\"1\" class=\"dataframe\">\n",
       "  <thead>\n",
       "    <tr style=\"text-align: right;\">\n",
       "      <th></th>\n",
       "      <th>Open</th>\n",
       "      <th>High</th>\n",
       "      <th>Low</th>\n",
       "      <th>Close</th>\n",
       "      <th>Adj Close</th>\n",
       "      <th>Volume</th>\n",
       "      <th>%-chg</th>\n",
       "      <th>Log Returns</th>\n",
       "    </tr>\n",
       "    <tr>\n",
       "      <th>Date</th>\n",
       "      <th></th>\n",
       "      <th></th>\n",
       "      <th></th>\n",
       "      <th></th>\n",
       "      <th></th>\n",
       "      <th></th>\n",
       "      <th></th>\n",
       "      <th></th>\n",
       "    </tr>\n",
       "  </thead>\n",
       "  <tbody>\n",
       "    <tr>\n",
       "      <td>2018-07-01</td>\n",
       "      <td>23.209999</td>\n",
       "      <td>27.459999</td>\n",
       "      <td>22.879999</td>\n",
       "      <td>24.790001</td>\n",
       "      <td>24.790001</td>\n",
       "      <td>25833200</td>\n",
       "      <td>NaN</td>\n",
       "      <td>NaN</td>\n",
       "    </tr>\n",
       "    <tr>\n",
       "      <td>2018-08-01</td>\n",
       "      <td>24.750000</td>\n",
       "      <td>31.580000</td>\n",
       "      <td>24.299999</td>\n",
       "      <td>29.500000</td>\n",
       "      <td>29.500000</td>\n",
       "      <td>22695800</td>\n",
       "      <td>0.189996</td>\n",
       "      <td>0.173950</td>\n",
       "    </tr>\n",
       "    <tr>\n",
       "      <td>2018-09-01</td>\n",
       "      <td>29.500000</td>\n",
       "      <td>32.919998</td>\n",
       "      <td>25.799999</td>\n",
       "      <td>26.780001</td>\n",
       "      <td>26.780001</td>\n",
       "      <td>48341500</td>\n",
       "      <td>-0.092203</td>\n",
       "      <td>-0.096735</td>\n",
       "    </tr>\n",
       "    <tr>\n",
       "      <td>2018-10-01</td>\n",
       "      <td>26.900000</td>\n",
       "      <td>27.670000</td>\n",
       "      <td>20.330000</td>\n",
       "      <td>22.150000</td>\n",
       "      <td>22.150000</td>\n",
       "      <td>42620300</td>\n",
       "      <td>-0.172890</td>\n",
       "      <td>-0.189818</td>\n",
       "    </tr>\n",
       "    <tr>\n",
       "      <td>2018-11-01</td>\n",
       "      <td>22.379999</td>\n",
       "      <td>24.830000</td>\n",
       "      <td>19.309999</td>\n",
       "      <td>23.360001</td>\n",
       "      <td>23.360001</td>\n",
       "      <td>37619400</td>\n",
       "      <td>0.054628</td>\n",
       "      <td>0.053188</td>\n",
       "    </tr>\n",
       "  </tbody>\n",
       "</table>\n",
       "</div>"
      ],
      "text/plain": [
       "                 Open       High        Low      Close  Adj Close    Volume  \\\n",
       "Date                                                                          \n",
       "2018-07-01  23.209999  27.459999  22.879999  24.790001  24.790001  25833200   \n",
       "2018-08-01  24.750000  31.580000  24.299999  29.500000  29.500000  22695800   \n",
       "2018-09-01  29.500000  32.919998  25.799999  26.780001  26.780001  48341500   \n",
       "2018-10-01  26.900000  27.670000  20.330000  22.150000  22.150000  42620300   \n",
       "2018-11-01  22.379999  24.830000  19.309999  23.360001  23.360001  37619400   \n",
       "\n",
       "               %-chg  Log Returns  \n",
       "Date                               \n",
       "2018-07-01       NaN          NaN  \n",
       "2018-08-01  0.189996     0.173950  \n",
       "2018-09-01 -0.092203    -0.096735  \n",
       "2018-10-01 -0.172890    -0.189818  \n",
       "2018-11-01  0.054628     0.053188  "
      ]
     },
     "execution_count": 31,
     "metadata": {},
     "output_type": "execute_result"
    }
   ],
   "source": [
    "data.head()"
   ]
  },
  {
   "cell_type": "code",
   "execution_count": 33,
   "metadata": {},
   "outputs": [
    {
     "data": {
      "text/plain": [
       "Date\n",
       "2018-07-01          NaN\n",
       "2018-08-01    27.145001\n",
       "2018-09-01    28.140000\n",
       "2018-10-01    24.465001\n",
       "2018-11-01    22.755001\n",
       "Name: Close, dtype: float64"
      ]
     },
     "execution_count": 33,
     "metadata": {},
     "output_type": "execute_result"
    }
   ],
   "source": [
    "data['Close'].rolling(2).mean().head()"
   ]
  },
  {
   "cell_type": "code",
   "execution_count": 37,
   "metadata": {},
   "outputs": [],
   "source": [
    "data['MA2'] = data['Close'].rolling(2).mean()"
   ]
  },
  {
   "cell_type": "code",
   "execution_count": 53,
   "metadata": {},
   "outputs": [
    {
     "data": {
      "text/html": [
       "<div>\n",
       "<style scoped>\n",
       "    .dataframe tbody tr th:only-of-type {\n",
       "        vertical-align: middle;\n",
       "    }\n",
       "\n",
       "    .dataframe tbody tr th {\n",
       "        vertical-align: top;\n",
       "    }\n",
       "\n",
       "    .dataframe thead th {\n",
       "        text-align: right;\n",
       "    }\n",
       "</style>\n",
       "<table border=\"1\" class=\"dataframe\">\n",
       "  <thead>\n",
       "    <tr style=\"text-align: right;\">\n",
       "      <th></th>\n",
       "      <th>Open</th>\n",
       "      <th>High</th>\n",
       "      <th>Low</th>\n",
       "      <th>Close</th>\n",
       "      <th>Adj Close</th>\n",
       "      <th>Volume</th>\n",
       "      <th>%-chg</th>\n",
       "      <th>Log Returns</th>\n",
       "      <th>MA2</th>\n",
       "      <th>EMA2</th>\n",
       "    </tr>\n",
       "    <tr>\n",
       "      <th>Date</th>\n",
       "      <th></th>\n",
       "      <th></th>\n",
       "      <th></th>\n",
       "      <th></th>\n",
       "      <th></th>\n",
       "      <th></th>\n",
       "      <th></th>\n",
       "      <th></th>\n",
       "      <th></th>\n",
       "      <th></th>\n",
       "    </tr>\n",
       "  </thead>\n",
       "  <tbody>\n",
       "    <tr>\n",
       "      <td>2018-07-01</td>\n",
       "      <td>23.209999</td>\n",
       "      <td>27.459999</td>\n",
       "      <td>22.879999</td>\n",
       "      <td>24.790001</td>\n",
       "      <td>24.790001</td>\n",
       "      <td>25833200</td>\n",
       "      <td>NaN</td>\n",
       "      <td>NaN</td>\n",
       "      <td>NaN</td>\n",
       "      <td>24.790001</td>\n",
       "    </tr>\n",
       "    <tr>\n",
       "      <td>2018-08-01</td>\n",
       "      <td>24.750000</td>\n",
       "      <td>31.580000</td>\n",
       "      <td>24.299999</td>\n",
       "      <td>29.500000</td>\n",
       "      <td>29.500000</td>\n",
       "      <td>22695800</td>\n",
       "      <td>0.189996</td>\n",
       "      <td>0.173950</td>\n",
       "      <td>27.145001</td>\n",
       "      <td>27.930000</td>\n",
       "    </tr>\n",
       "    <tr>\n",
       "      <td>2018-09-01</td>\n",
       "      <td>29.500000</td>\n",
       "      <td>32.919998</td>\n",
       "      <td>25.799999</td>\n",
       "      <td>26.780001</td>\n",
       "      <td>26.780001</td>\n",
       "      <td>48341500</td>\n",
       "      <td>-0.092203</td>\n",
       "      <td>-0.096735</td>\n",
       "      <td>28.140000</td>\n",
       "      <td>27.163334</td>\n",
       "    </tr>\n",
       "    <tr>\n",
       "      <td>2018-10-01</td>\n",
       "      <td>26.900000</td>\n",
       "      <td>27.670000</td>\n",
       "      <td>20.330000</td>\n",
       "      <td>22.150000</td>\n",
       "      <td>22.150000</td>\n",
       "      <td>42620300</td>\n",
       "      <td>-0.172890</td>\n",
       "      <td>-0.189818</td>\n",
       "      <td>24.465001</td>\n",
       "      <td>23.821111</td>\n",
       "    </tr>\n",
       "    <tr>\n",
       "      <td>2018-11-01</td>\n",
       "      <td>22.379999</td>\n",
       "      <td>24.830000</td>\n",
       "      <td>19.309999</td>\n",
       "      <td>23.360001</td>\n",
       "      <td>23.360001</td>\n",
       "      <td>37619400</td>\n",
       "      <td>0.054628</td>\n",
       "      <td>0.053188</td>\n",
       "      <td>22.755001</td>\n",
       "      <td>23.513704</td>\n",
       "    </tr>\n",
       "  </tbody>\n",
       "</table>\n",
       "</div>"
      ],
      "text/plain": [
       "                 Open       High        Low      Close  Adj Close    Volume  \\\n",
       "Date                                                                          \n",
       "2018-07-01  23.209999  27.459999  22.879999  24.790001  24.790001  25833200   \n",
       "2018-08-01  24.750000  31.580000  24.299999  29.500000  29.500000  22695800   \n",
       "2018-09-01  29.500000  32.919998  25.799999  26.780001  26.780001  48341500   \n",
       "2018-10-01  26.900000  27.670000  20.330000  22.150000  22.150000  42620300   \n",
       "2018-11-01  22.379999  24.830000  19.309999  23.360001  23.360001  37619400   \n",
       "\n",
       "               %-chg  Log Returns        MA2       EMA2  \n",
       "Date                                                     \n",
       "2018-07-01       NaN          NaN        NaN  24.790001  \n",
       "2018-08-01  0.189996     0.173950  27.145001  27.930000  \n",
       "2018-09-01 -0.092203    -0.096735  28.140000  27.163334  \n",
       "2018-10-01 -0.172890    -0.189818  24.465001  23.821111  \n",
       "2018-11-01  0.054628     0.053188  22.755001  23.513704  "
      ]
     },
     "execution_count": 53,
     "metadata": {},
     "output_type": "execute_result"
    }
   ],
   "source": [
    "data.head()"
   ]
  },
  {
   "cell_type": "code",
   "execution_count": 42,
   "metadata": {},
   "outputs": [],
   "source": [
    "data['EMA2'] = data['Close'].ewm(span=2, adjust=False).mean()"
   ]
  },
  {
   "cell_type": "code",
   "execution_count": 43,
   "metadata": {},
   "outputs": [
    {
     "data": {
      "text/html": [
       "<div>\n",
       "<style scoped>\n",
       "    .dataframe tbody tr th:only-of-type {\n",
       "        vertical-align: middle;\n",
       "    }\n",
       "\n",
       "    .dataframe tbody tr th {\n",
       "        vertical-align: top;\n",
       "    }\n",
       "\n",
       "    .dataframe thead th {\n",
       "        text-align: right;\n",
       "    }\n",
       "</style>\n",
       "<table border=\"1\" class=\"dataframe\">\n",
       "  <thead>\n",
       "    <tr style=\"text-align: right;\">\n",
       "      <th></th>\n",
       "      <th>Open</th>\n",
       "      <th>High</th>\n",
       "      <th>Low</th>\n",
       "      <th>Close</th>\n",
       "      <th>Adj Close</th>\n",
       "      <th>Volume</th>\n",
       "      <th>%-chg</th>\n",
       "      <th>Log Returns</th>\n",
       "      <th>MA2</th>\n",
       "      <th>EMA2</th>\n",
       "    </tr>\n",
       "    <tr>\n",
       "      <th>Date</th>\n",
       "      <th></th>\n",
       "      <th></th>\n",
       "      <th></th>\n",
       "      <th></th>\n",
       "      <th></th>\n",
       "      <th></th>\n",
       "      <th></th>\n",
       "      <th></th>\n",
       "      <th></th>\n",
       "      <th></th>\n",
       "    </tr>\n",
       "  </thead>\n",
       "  <tbody>\n",
       "    <tr>\n",
       "      <td>2018-07-01</td>\n",
       "      <td>23.209999</td>\n",
       "      <td>27.459999</td>\n",
       "      <td>22.879999</td>\n",
       "      <td>24.790001</td>\n",
       "      <td>24.790001</td>\n",
       "      <td>25833200</td>\n",
       "      <td>NaN</td>\n",
       "      <td>NaN</td>\n",
       "      <td>NaN</td>\n",
       "      <td>24.790001</td>\n",
       "    </tr>\n",
       "    <tr>\n",
       "      <td>2018-08-01</td>\n",
       "      <td>24.750000</td>\n",
       "      <td>31.580000</td>\n",
       "      <td>24.299999</td>\n",
       "      <td>29.500000</td>\n",
       "      <td>29.500000</td>\n",
       "      <td>22695800</td>\n",
       "      <td>0.189996</td>\n",
       "      <td>0.173950</td>\n",
       "      <td>27.145001</td>\n",
       "      <td>27.930000</td>\n",
       "    </tr>\n",
       "    <tr>\n",
       "      <td>2018-09-01</td>\n",
       "      <td>29.500000</td>\n",
       "      <td>32.919998</td>\n",
       "      <td>25.799999</td>\n",
       "      <td>26.780001</td>\n",
       "      <td>26.780001</td>\n",
       "      <td>48341500</td>\n",
       "      <td>-0.092203</td>\n",
       "      <td>-0.096735</td>\n",
       "      <td>28.140000</td>\n",
       "      <td>27.163334</td>\n",
       "    </tr>\n",
       "    <tr>\n",
       "      <td>2018-10-01</td>\n",
       "      <td>26.900000</td>\n",
       "      <td>27.670000</td>\n",
       "      <td>20.330000</td>\n",
       "      <td>22.150000</td>\n",
       "      <td>22.150000</td>\n",
       "      <td>42620300</td>\n",
       "      <td>-0.172890</td>\n",
       "      <td>-0.189818</td>\n",
       "      <td>24.465001</td>\n",
       "      <td>23.821111</td>\n",
       "    </tr>\n",
       "    <tr>\n",
       "      <td>2018-11-01</td>\n",
       "      <td>22.379999</td>\n",
       "      <td>24.830000</td>\n",
       "      <td>19.309999</td>\n",
       "      <td>23.360001</td>\n",
       "      <td>23.360001</td>\n",
       "      <td>37619400</td>\n",
       "      <td>0.054628</td>\n",
       "      <td>0.053188</td>\n",
       "      <td>22.755001</td>\n",
       "      <td>23.513704</td>\n",
       "    </tr>\n",
       "  </tbody>\n",
       "</table>\n",
       "</div>"
      ],
      "text/plain": [
       "                 Open       High        Low      Close  Adj Close    Volume  \\\n",
       "Date                                                                          \n",
       "2018-07-01  23.209999  27.459999  22.879999  24.790001  24.790001  25833200   \n",
       "2018-08-01  24.750000  31.580000  24.299999  29.500000  29.500000  22695800   \n",
       "2018-09-01  29.500000  32.919998  25.799999  26.780001  26.780001  48341500   \n",
       "2018-10-01  26.900000  27.670000  20.330000  22.150000  22.150000  42620300   \n",
       "2018-11-01  22.379999  24.830000  19.309999  23.360001  23.360001  37619400   \n",
       "\n",
       "               %-chg  Log Returns        MA2       EMA2  \n",
       "Date                                                     \n",
       "2018-07-01       NaN          NaN        NaN  24.790001  \n",
       "2018-08-01  0.189996     0.173950  27.145001  27.930000  \n",
       "2018-09-01 -0.092203    -0.096735  28.140000  27.163334  \n",
       "2018-10-01 -0.172890    -0.189818  24.465001  23.821111  \n",
       "2018-11-01  0.054628     0.053188  22.755001  23.513704  "
      ]
     },
     "execution_count": 43,
     "metadata": {},
     "output_type": "execute_result"
    }
   ],
   "source": [
    "data.head()"
   ]
  },
  {
   "cell_type": "code",
   "execution_count": 52,
   "metadata": {},
   "outputs": [
    {
     "data": {
      "text/plain": [
       "<matplotlib.axes._subplots.AxesSubplot at 0x7f82ec2ce6d0>"
      ]
     },
     "execution_count": 52,
     "metadata": {},
     "output_type": "execute_result"
    },
    {
     "data": {
      "image/png": "[encoded data removed]",
      "text/plain": [
       "<Figure size 432x288 with 1 Axes>"
      ]
     },
     "metadata": {
      "needs_background": "light"
     },
     "output_type": "display_data"
    }
   ],
   "source": [
    "fig, ax = plt.subplots()\n",
    "data[['MA2', 'EMA2']].loc['2022-01-01':'2022-08-01'].plot(ax=ax)\n",
    "data['Close'].loc['2022-01-01':'2022-08-01'].plot(ax=ax)"
   ]
  },
  {
   "cell_type": "code",
   "execution_count": null,
   "metadata": {},
   "outputs": [],
   "source": []
  }
 ],
 "metadata": {
  "kernelspec": {
   "display_name": "Python 3",
   "language": "python",
   "name": "python3"
  },
  "language_info": {
   "codemirror_mode": {
    "name": "ipython",
    "version": 3
   },
   "file_extension": ".py",
   "mimetype": "text/x-python",
   "name": "python",
   "nbconvert_exporter": "python",
   "pygments_lexer": "ipython3",
   "version": "3.7.4"
  }
 },
 "nbformat": 4,
 "nbformat_minor": 2
}
