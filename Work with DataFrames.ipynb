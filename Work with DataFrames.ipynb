{
 "cells": [
  {
   "cell_type": "markdown",
   "metadata": {},
   "source": [
    "**Modify DataFrames and Useful Functions**\n",
    "\n",
    "* Calculate with coloumns\n",
    "* Create new coloumns\n",
    "* Drop coloumns\n",
    "* Max, Min, Argmax, Argmin\n",
    "* Mean\n"
   ]
  },
  {
   "cell_type": "code",
   "execution_count": 3,
   "metadata": {},
   "outputs": [],
   "source": [
    "import pandas as pd"
   ]
  },
  {
   "cell_type": "code",
   "execution_count": 9,
   "metadata": {},
   "outputs": [],
   "source": [
    "data = pd.read_csv(\"BJ.csv\", index_col=0, parse_dates=True)"
   ]
  },
  {
   "cell_type": "code",
   "execution_count": 11,
   "metadata": {},
   "outputs": [
    {
     "data": {
      "text/html": [
       "<div>\n",
       "<style scoped>\n",
       "    .dataframe tbody tr th:only-of-type {\n",
       "        vertical-align: middle;\n",
       "    }\n",
       "\n",
       "    .dataframe tbody tr th {\n",
       "        vertical-align: top;\n",
       "    }\n",
       "\n",
       "    .dataframe thead th {\n",
       "        text-align: right;\n",
       "    }\n",
       "</style>\n",
       "<table border=\"1\" class=\"dataframe\">\n",
       "  <thead>\n",
       "    <tr style=\"text-align: right;\">\n",
       "      <th></th>\n",
       "      <th>Open</th>\n",
       "      <th>High</th>\n",
       "      <th>Low</th>\n",
       "      <th>Close</th>\n",
       "      <th>Adj Close</th>\n",
       "      <th>Volume</th>\n",
       "    </tr>\n",
       "    <tr>\n",
       "      <th>Date</th>\n",
       "      <th></th>\n",
       "      <th></th>\n",
       "      <th></th>\n",
       "      <th></th>\n",
       "      <th></th>\n",
       "      <th></th>\n",
       "    </tr>\n",
       "  </thead>\n",
       "  <tbody>\n",
       "    <tr>\n",
       "      <td>2018-07-01</td>\n",
       "      <td>23.209999</td>\n",
       "      <td>27.459999</td>\n",
       "      <td>22.879999</td>\n",
       "      <td>24.790001</td>\n",
       "      <td>24.790001</td>\n",
       "      <td>25833200</td>\n",
       "    </tr>\n",
       "    <tr>\n",
       "      <td>2018-08-01</td>\n",
       "      <td>24.750000</td>\n",
       "      <td>31.580000</td>\n",
       "      <td>24.299999</td>\n",
       "      <td>29.500000</td>\n",
       "      <td>29.500000</td>\n",
       "      <td>22695800</td>\n",
       "    </tr>\n",
       "    <tr>\n",
       "      <td>2018-09-01</td>\n",
       "      <td>29.500000</td>\n",
       "      <td>32.919998</td>\n",
       "      <td>25.799999</td>\n",
       "      <td>26.780001</td>\n",
       "      <td>26.780001</td>\n",
       "      <td>48341500</td>\n",
       "    </tr>\n",
       "    <tr>\n",
       "      <td>2018-10-01</td>\n",
       "      <td>26.900000</td>\n",
       "      <td>27.670000</td>\n",
       "      <td>20.330000</td>\n",
       "      <td>22.150000</td>\n",
       "      <td>22.150000</td>\n",
       "      <td>42620300</td>\n",
       "    </tr>\n",
       "    <tr>\n",
       "      <td>2018-11-01</td>\n",
       "      <td>22.379999</td>\n",
       "      <td>24.830000</td>\n",
       "      <td>19.309999</td>\n",
       "      <td>23.360001</td>\n",
       "      <td>23.360001</td>\n",
       "      <td>37619400</td>\n",
       "    </tr>\n",
       "  </tbody>\n",
       "</table>\n",
       "</div>"
      ],
      "text/plain": [
       "                 Open       High        Low      Close  Adj Close    Volume\n",
       "Date                                                                       \n",
       "2018-07-01  23.209999  27.459999  22.879999  24.790001  24.790001  25833200\n",
       "2018-08-01  24.750000  31.580000  24.299999  29.500000  29.500000  22695800\n",
       "2018-09-01  29.500000  32.919998  25.799999  26.780001  26.780001  48341500\n",
       "2018-10-01  26.900000  27.670000  20.330000  22.150000  22.150000  42620300\n",
       "2018-11-01  22.379999  24.830000  19.309999  23.360001  23.360001  37619400"
      ]
     },
     "execution_count": 11,
     "metadata": {},
     "output_type": "execute_result"
    }
   ],
   "source": [
    "data.head()"
   ]
  },
  {
   "cell_type": "code",
   "execution_count": 13,
   "metadata": {},
   "outputs": [],
   "source": [
    "data['Monthly Change'] = data['Close'] - data['Open']"
   ]
  },
  {
   "cell_type": "code",
   "execution_count": 17,
   "metadata": {},
   "outputs": [],
   "source": [
    "data['Return'] = data['Close']/data['Close'].iloc[0] - 1"
   ]
  },
  {
   "cell_type": "code",
   "execution_count": 18,
   "metadata": {},
   "outputs": [
    {
     "data": {
      "text/html": [
       "<div>\n",
       "<style scoped>\n",
       "    .dataframe tbody tr th:only-of-type {\n",
       "        vertical-align: middle;\n",
       "    }\n",
       "\n",
       "    .dataframe tbody tr th {\n",
       "        vertical-align: top;\n",
       "    }\n",
       "\n",
       "    .dataframe thead th {\n",
       "        text-align: right;\n",
       "    }\n",
       "</style>\n",
       "<table border=\"1\" class=\"dataframe\">\n",
       "  <thead>\n",
       "    <tr style=\"text-align: right;\">\n",
       "      <th></th>\n",
       "      <th>Open</th>\n",
       "      <th>High</th>\n",
       "      <th>Low</th>\n",
       "      <th>Close</th>\n",
       "      <th>Adj Close</th>\n",
       "      <th>Volume</th>\n",
       "      <th>Monthly Change</th>\n",
       "      <th>Return</th>\n",
       "    </tr>\n",
       "    <tr>\n",
       "      <th>Date</th>\n",
       "      <th></th>\n",
       "      <th></th>\n",
       "      <th></th>\n",
       "      <th></th>\n",
       "      <th></th>\n",
       "      <th></th>\n",
       "      <th></th>\n",
       "      <th></th>\n",
       "    </tr>\n",
       "  </thead>\n",
       "  <tbody>\n",
       "    <tr>\n",
       "      <td>2018-07-01</td>\n",
       "      <td>23.209999</td>\n",
       "      <td>27.459999</td>\n",
       "      <td>22.879999</td>\n",
       "      <td>24.790001</td>\n",
       "      <td>24.790001</td>\n",
       "      <td>25833200</td>\n",
       "      <td>1.580002</td>\n",
       "      <td>0.000000</td>\n",
       "    </tr>\n",
       "    <tr>\n",
       "      <td>2018-08-01</td>\n",
       "      <td>24.750000</td>\n",
       "      <td>31.580000</td>\n",
       "      <td>24.299999</td>\n",
       "      <td>29.500000</td>\n",
       "      <td>29.500000</td>\n",
       "      <td>22695800</td>\n",
       "      <td>4.750000</td>\n",
       "      <td>0.189996</td>\n",
       "    </tr>\n",
       "    <tr>\n",
       "      <td>2018-09-01</td>\n",
       "      <td>29.500000</td>\n",
       "      <td>32.919998</td>\n",
       "      <td>25.799999</td>\n",
       "      <td>26.780001</td>\n",
       "      <td>26.780001</td>\n",
       "      <td>48341500</td>\n",
       "      <td>-2.719999</td>\n",
       "      <td>0.080274</td>\n",
       "    </tr>\n",
       "    <tr>\n",
       "      <td>2018-10-01</td>\n",
       "      <td>26.900000</td>\n",
       "      <td>27.670000</td>\n",
       "      <td>20.330000</td>\n",
       "      <td>22.150000</td>\n",
       "      <td>22.150000</td>\n",
       "      <td>42620300</td>\n",
       "      <td>-4.750000</td>\n",
       "      <td>-0.106495</td>\n",
       "    </tr>\n",
       "    <tr>\n",
       "      <td>2018-11-01</td>\n",
       "      <td>22.379999</td>\n",
       "      <td>24.830000</td>\n",
       "      <td>19.309999</td>\n",
       "      <td>23.360001</td>\n",
       "      <td>23.360001</td>\n",
       "      <td>37619400</td>\n",
       "      <td>0.980002</td>\n",
       "      <td>-0.057685</td>\n",
       "    </tr>\n",
       "  </tbody>\n",
       "</table>\n",
       "</div>"
      ],
      "text/plain": [
       "                 Open       High        Low      Close  Adj Close    Volume  \\\n",
       "Date                                                                          \n",
       "2018-07-01  23.209999  27.459999  22.879999  24.790001  24.790001  25833200   \n",
       "2018-08-01  24.750000  31.580000  24.299999  29.500000  29.500000  22695800   \n",
       "2018-09-01  29.500000  32.919998  25.799999  26.780001  26.780001  48341500   \n",
       "2018-10-01  26.900000  27.670000  20.330000  22.150000  22.150000  42620300   \n",
       "2018-11-01  22.379999  24.830000  19.309999  23.360001  23.360001  37619400   \n",
       "\n",
       "            Monthly Change    Return  \n",
       "Date                                  \n",
       "2018-07-01        1.580002  0.000000  \n",
       "2018-08-01        4.750000  0.189996  \n",
       "2018-09-01       -2.719999  0.080274  \n",
       "2018-10-01       -4.750000 -0.106495  \n",
       "2018-11-01        0.980002 -0.057685  "
      ]
     },
     "execution_count": 18,
     "metadata": {},
     "output_type": "execute_result"
    }
   ],
   "source": [
    "data.head()"
   ]
  },
  {
   "cell_type": "code",
   "execution_count": 20,
   "metadata": {},
   "outputs": [
    {
     "data": {
      "text/plain": [
       "19.26"
      ]
     },
     "execution_count": 20,
     "metadata": {},
     "output_type": "execute_result"
    }
   ],
   "source": [
    "data['Close'].min()"
   ]
  },
  {
   "cell_type": "code",
   "execution_count": 21,
   "metadata": {},
   "outputs": [
    {
     "data": {
      "text/plain": [
       "Open              1.940000e+01\n",
       "High              2.223000e+01\n",
       "Low               1.884000e+01\n",
       "Close             1.926000e+01\n",
       "Adj Close         1.926000e+01\n",
       "Volume            1.475758e+06\n",
       "Monthly Change   -6.649998e+00\n",
       "Return           -2.230739e-01\n",
       "dtype: float64"
      ]
     },
     "execution_count": 21,
     "metadata": {},
     "output_type": "execute_result"
    }
   ],
   "source": [
    "data.min()"
   ]
  },
  {
   "cell_type": "code",
   "execution_count": 27,
   "metadata": {},
   "outputs": [
    {
     "data": {
      "text/plain": [
       "-0.2230738514290499"
      ]
     },
     "execution_count": 27,
     "metadata": {},
     "output_type": "execute_result"
    }
   ],
   "source": [
    "data['Return'].min()"
   ]
  },
  {
   "cell_type": "code",
   "execution_count": 28,
   "metadata": {},
   "outputs": [
    {
     "data": {
      "text/plain": [
       "78.470001"
      ]
     },
     "execution_count": 28,
     "metadata": {},
     "output_type": "execute_result"
    }
   ],
   "source": [
    "data['Close'].max()"
   ]
  },
  {
   "cell_type": "code",
   "execution_count": 29,
   "metadata": {},
   "outputs": [
    {
     "data": {
      "text/plain": [
       "42.73129625925925"
      ]
     },
     "execution_count": 29,
     "metadata": {},
     "output_type": "execute_result"
    }
   ],
   "source": [
    "data['Close'].mean()"
   ]
  },
  {
   "cell_type": "code",
   "execution_count": 30,
   "metadata": {},
   "outputs": [
    {
     "data": {
      "text/html": [
       "<div>\n",
       "<style scoped>\n",
       "    .dataframe tbody tr th:only-of-type {\n",
       "        vertical-align: middle;\n",
       "    }\n",
       "\n",
       "    .dataframe tbody tr th {\n",
       "        vertical-align: top;\n",
       "    }\n",
       "\n",
       "    .dataframe thead th {\n",
       "        text-align: right;\n",
       "    }\n",
       "</style>\n",
       "<table border=\"1\" class=\"dataframe\">\n",
       "  <thead>\n",
       "    <tr style=\"text-align: right;\">\n",
       "      <th></th>\n",
       "      <th>Open</th>\n",
       "      <th>High</th>\n",
       "      <th>Low</th>\n",
       "      <th>Close</th>\n",
       "      <th>Adj Close</th>\n",
       "      <th>Volume</th>\n",
       "      <th>Monthly Change</th>\n",
       "      <th>Return</th>\n",
       "    </tr>\n",
       "    <tr>\n",
       "      <th>Date</th>\n",
       "      <th></th>\n",
       "      <th></th>\n",
       "      <th></th>\n",
       "      <th></th>\n",
       "      <th></th>\n",
       "      <th></th>\n",
       "      <th></th>\n",
       "      <th></th>\n",
       "    </tr>\n",
       "  </thead>\n",
       "  <tbody>\n",
       "    <tr>\n",
       "      <td>2018-07-01</td>\n",
       "      <td>23.209999</td>\n",
       "      <td>27.459999</td>\n",
       "      <td>22.879999</td>\n",
       "      <td>24.790001</td>\n",
       "      <td>24.790001</td>\n",
       "      <td>25833200</td>\n",
       "      <td>1.580002</td>\n",
       "      <td>0.000000</td>\n",
       "    </tr>\n",
       "    <tr>\n",
       "      <td>2018-08-01</td>\n",
       "      <td>24.750000</td>\n",
       "      <td>31.580000</td>\n",
       "      <td>24.299999</td>\n",
       "      <td>29.500000</td>\n",
       "      <td>29.500000</td>\n",
       "      <td>22695800</td>\n",
       "      <td>4.750000</td>\n",
       "      <td>0.189996</td>\n",
       "    </tr>\n",
       "    <tr>\n",
       "      <td>2018-09-01</td>\n",
       "      <td>29.500000</td>\n",
       "      <td>32.919998</td>\n",
       "      <td>25.799999</td>\n",
       "      <td>26.780001</td>\n",
       "      <td>26.780001</td>\n",
       "      <td>48341500</td>\n",
       "      <td>-2.719999</td>\n",
       "      <td>0.080274</td>\n",
       "    </tr>\n",
       "    <tr>\n",
       "      <td>2018-10-01</td>\n",
       "      <td>26.900000</td>\n",
       "      <td>27.670000</td>\n",
       "      <td>20.330000</td>\n",
       "      <td>22.150000</td>\n",
       "      <td>22.150000</td>\n",
       "      <td>42620300</td>\n",
       "      <td>-4.750000</td>\n",
       "      <td>-0.106495</td>\n",
       "    </tr>\n",
       "    <tr>\n",
       "      <td>2018-11-01</td>\n",
       "      <td>22.379999</td>\n",
       "      <td>24.830000</td>\n",
       "      <td>19.309999</td>\n",
       "      <td>23.360001</td>\n",
       "      <td>23.360001</td>\n",
       "      <td>37619400</td>\n",
       "      <td>0.980002</td>\n",
       "      <td>-0.057685</td>\n",
       "    </tr>\n",
       "  </tbody>\n",
       "</table>\n",
       "</div>"
      ],
      "text/plain": [
       "                 Open       High        Low      Close  Adj Close    Volume  \\\n",
       "Date                                                                          \n",
       "2018-07-01  23.209999  27.459999  22.879999  24.790001  24.790001  25833200   \n",
       "2018-08-01  24.750000  31.580000  24.299999  29.500000  29.500000  22695800   \n",
       "2018-09-01  29.500000  32.919998  25.799999  26.780001  26.780001  48341500   \n",
       "2018-10-01  26.900000  27.670000  20.330000  22.150000  22.150000  42620300   \n",
       "2018-11-01  22.379999  24.830000  19.309999  23.360001  23.360001  37619400   \n",
       "\n",
       "            Monthly Change    Return  \n",
       "Date                                  \n",
       "2018-07-01        1.580002  0.000000  \n",
       "2018-08-01        4.750000  0.189996  \n",
       "2018-09-01       -2.719999  0.080274  \n",
       "2018-10-01       -4.750000 -0.106495  \n",
       "2018-11-01        0.980002 -0.057685  "
      ]
     },
     "execution_count": 30,
     "metadata": {},
     "output_type": "execute_result"
    }
   ],
   "source": [
    "data.head()"
   ]
  },
  {
   "cell_type": "code",
   "execution_count": 37,
   "metadata": {},
   "outputs": [],
   "source": [
    "data.drop(labels=['High', 'Low', 'Adj Close', 'Volume'], axis=1, inplace=True)"
   ]
  },
  {
   "cell_type": "code",
   "execution_count": 38,
   "metadata": {},
   "outputs": [
    {
     "data": {
      "text/html": [
       "<div>\n",
       "<style scoped>\n",
       "    .dataframe tbody tr th:only-of-type {\n",
       "        vertical-align: middle;\n",
       "    }\n",
       "\n",
       "    .dataframe tbody tr th {\n",
       "        vertical-align: top;\n",
       "    }\n",
       "\n",
       "    .dataframe thead th {\n",
       "        text-align: right;\n",
       "    }\n",
       "</style>\n",
       "<table border=\"1\" class=\"dataframe\">\n",
       "  <thead>\n",
       "    <tr style=\"text-align: right;\">\n",
       "      <th></th>\n",
       "      <th>Open</th>\n",
       "      <th>Close</th>\n",
       "      <th>Monthly Change</th>\n",
       "      <th>Return</th>\n",
       "    </tr>\n",
       "    <tr>\n",
       "      <th>Date</th>\n",
       "      <th></th>\n",
       "      <th></th>\n",
       "      <th></th>\n",
       "      <th></th>\n",
       "    </tr>\n",
       "  </thead>\n",
       "  <tbody>\n",
       "    <tr>\n",
       "      <td>2018-07-01</td>\n",
       "      <td>23.209999</td>\n",
       "      <td>24.790001</td>\n",
       "      <td>1.580002</td>\n",
       "      <td>0.000000</td>\n",
       "    </tr>\n",
       "    <tr>\n",
       "      <td>2018-08-01</td>\n",
       "      <td>24.750000</td>\n",
       "      <td>29.500000</td>\n",
       "      <td>4.750000</td>\n",
       "      <td>0.189996</td>\n",
       "    </tr>\n",
       "    <tr>\n",
       "      <td>2018-09-01</td>\n",
       "      <td>29.500000</td>\n",
       "      <td>26.780001</td>\n",
       "      <td>-2.719999</td>\n",
       "      <td>0.080274</td>\n",
       "    </tr>\n",
       "    <tr>\n",
       "      <td>2018-10-01</td>\n",
       "      <td>26.900000</td>\n",
       "      <td>22.150000</td>\n",
       "      <td>-4.750000</td>\n",
       "      <td>-0.106495</td>\n",
       "    </tr>\n",
       "    <tr>\n",
       "      <td>2018-11-01</td>\n",
       "      <td>22.379999</td>\n",
       "      <td>23.360001</td>\n",
       "      <td>0.980002</td>\n",
       "      <td>-0.057685</td>\n",
       "    </tr>\n",
       "  </tbody>\n",
       "</table>\n",
       "</div>"
      ],
      "text/plain": [
       "                 Open      Close  Monthly Change    Return\n",
       "Date                                                      \n",
       "2018-07-01  23.209999  24.790001        1.580002  0.000000\n",
       "2018-08-01  24.750000  29.500000        4.750000  0.189996\n",
       "2018-09-01  29.500000  26.780001       -2.719999  0.080274\n",
       "2018-10-01  26.900000  22.150000       -4.750000 -0.106495\n",
       "2018-11-01  22.379999  23.360001        0.980002 -0.057685"
      ]
     },
     "execution_count": 38,
     "metadata": {},
     "output_type": "execute_result"
    }
   ],
   "source": [
    "data.head()"
   ]
  },
  {
   "cell_type": "code",
   "execution_count": null,
   "metadata": {},
   "outputs": [],
   "source": []
  }
 ],
 "metadata": {
  "kernelspec": {
   "display_name": "Python 3",
   "language": "python",
   "name": "python3"
  },
  "language_info": {
   "codemirror_mode": {
    "name": "ipython",
    "version": 3
   },
   "file_extension": ".py",
   "mimetype": "text/x-python",
   "name": "python",
   "nbconvert_exporter": "python",
   "pygments_lexer": "ipython3",
   "version": "3.7.4"
  }
 },
 "nbformat": 4,
 "nbformat_minor": 2
}
