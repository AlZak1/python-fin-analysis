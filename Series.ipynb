{
 "cells": [
  {
   "cell_type": "markdown",
   "metadata": {},
   "source": [
    "# Series\n",
    "\n",
    "* Use type to get data type\n",
    "* Each column is a Series\n",
    "* Series show data type (dtype)\n",
    "* Calculate with Series\n",
    "* Daily change\n",
    "* Daily percentage change\n",
    "* Normalize data\n",
    "* Similar to Excel\n",
    "* Indexing with Series"
   ]
  },
  {
   "cell_type": "code",
   "execution_count": 2,
   "metadata": {},
   "outputs": [],
   "source": [
    "import pandas as pd"
   ]
  },
  {
   "cell_type": "code",
   "execution_count": 10,
   "metadata": {},
   "outputs": [],
   "source": [
    "data = pd.read_csv(\"BJ.csv\", index_col=0, parse_dates=True)"
   ]
  },
  {
   "cell_type": "code",
   "execution_count": 11,
   "metadata": {
    "scrolled": true
   },
   "outputs": [
    {
     "data": {
      "text/html": [
       "<div>\n",
       "<style scoped>\n",
       "    .dataframe tbody tr th:only-of-type {\n",
       "        vertical-align: middle;\n",
       "    }\n",
       "\n",
       "    .dataframe tbody tr th {\n",
       "        vertical-align: top;\n",
       "    }\n",
       "\n",
       "    .dataframe thead th {\n",
       "        text-align: right;\n",
       "    }\n",
       "</style>\n",
       "<table border=\"1\" class=\"dataframe\">\n",
       "  <thead>\n",
       "    <tr style=\"text-align: right;\">\n",
       "      <th></th>\n",
       "      <th>Open</th>\n",
       "      <th>High</th>\n",
       "      <th>Low</th>\n",
       "      <th>Close</th>\n",
       "      <th>Adj Close</th>\n",
       "      <th>Volume</th>\n",
       "    </tr>\n",
       "    <tr>\n",
       "      <th>Date</th>\n",
       "      <th></th>\n",
       "      <th></th>\n",
       "      <th></th>\n",
       "      <th></th>\n",
       "      <th></th>\n",
       "      <th></th>\n",
       "    </tr>\n",
       "  </thead>\n",
       "  <tbody>\n",
       "    <tr>\n",
       "      <td>2018-07-01</td>\n",
       "      <td>23.209999</td>\n",
       "      <td>27.459999</td>\n",
       "      <td>22.879999</td>\n",
       "      <td>24.790001</td>\n",
       "      <td>24.790001</td>\n",
       "      <td>25833200</td>\n",
       "    </tr>\n",
       "    <tr>\n",
       "      <td>2018-08-01</td>\n",
       "      <td>24.750000</td>\n",
       "      <td>31.580000</td>\n",
       "      <td>24.299999</td>\n",
       "      <td>29.500000</td>\n",
       "      <td>29.500000</td>\n",
       "      <td>22695800</td>\n",
       "    </tr>\n",
       "    <tr>\n",
       "      <td>2018-09-01</td>\n",
       "      <td>29.500000</td>\n",
       "      <td>32.919998</td>\n",
       "      <td>25.799999</td>\n",
       "      <td>26.780001</td>\n",
       "      <td>26.780001</td>\n",
       "      <td>48341500</td>\n",
       "    </tr>\n",
       "    <tr>\n",
       "      <td>2018-10-01</td>\n",
       "      <td>26.900000</td>\n",
       "      <td>27.670000</td>\n",
       "      <td>20.330000</td>\n",
       "      <td>22.150000</td>\n",
       "      <td>22.150000</td>\n",
       "      <td>42620300</td>\n",
       "    </tr>\n",
       "    <tr>\n",
       "      <td>2018-11-01</td>\n",
       "      <td>22.379999</td>\n",
       "      <td>24.830000</td>\n",
       "      <td>19.309999</td>\n",
       "      <td>23.360001</td>\n",
       "      <td>23.360001</td>\n",
       "      <td>37619400</td>\n",
       "    </tr>\n",
       "  </tbody>\n",
       "</table>\n",
       "</div>"
      ],
      "text/plain": [
       "                 Open       High        Low      Close  Adj Close    Volume\n",
       "Date                                                                       \n",
       "2018-07-01  23.209999  27.459999  22.879999  24.790001  24.790001  25833200\n",
       "2018-08-01  24.750000  31.580000  24.299999  29.500000  29.500000  22695800\n",
       "2018-09-01  29.500000  32.919998  25.799999  26.780001  26.780001  48341500\n",
       "2018-10-01  26.900000  27.670000  20.330000  22.150000  22.150000  42620300\n",
       "2018-11-01  22.379999  24.830000  19.309999  23.360001  23.360001  37619400"
      ]
     },
     "execution_count": 11,
     "metadata": {},
     "output_type": "execute_result"
    }
   ],
   "source": [
    "data.head()"
   ]
  },
  {
   "cell_type": "code",
   "execution_count": 18,
   "metadata": {},
   "outputs": [
    {
     "data": {
      "text/plain": [
       "Open         float64\n",
       "High         float64\n",
       "Low          float64\n",
       "Close        float64\n",
       "Adj Close    float64\n",
       "Volume         int64\n",
       "dtype: object"
      ]
     },
     "execution_count": 18,
     "metadata": {},
     "output_type": "execute_result"
    }
   ],
   "source": [
    "data.dtypes"
   ]
  },
  {
   "cell_type": "code",
   "execution_count": 12,
   "metadata": {},
   "outputs": [
    {
     "data": {
      "text/plain": [
       "pandas.core.frame.DataFrame"
      ]
     },
     "execution_count": 12,
     "metadata": {},
     "output_type": "execute_result"
    }
   ],
   "source": [
    "type(data)"
   ]
  },
  {
   "cell_type": "code",
   "execution_count": 15,
   "metadata": {},
   "outputs": [],
   "source": [
    "close_coloumn = data['Close'].head()"
   ]
  },
  {
   "cell_type": "code",
   "execution_count": 16,
   "metadata": {},
   "outputs": [
    {
     "data": {
      "text/plain": [
       "Date\n",
       "2018-07-01    24.790001\n",
       "2018-08-01    29.500000\n",
       "2018-09-01    26.780001\n",
       "2018-10-01    22.150000\n",
       "2018-11-01    23.360001\n",
       "Name: Close, dtype: float64"
      ]
     },
     "execution_count": 16,
     "metadata": {},
     "output_type": "execute_result"
    }
   ],
   "source": [
    "close_coloumn"
   ]
  },
  {
   "cell_type": "code",
   "execution_count": 17,
   "metadata": {},
   "outputs": [
    {
     "data": {
      "text/plain": [
       "pandas.core.series.Series"
      ]
     },
     "execution_count": 17,
     "metadata": {},
     "output_type": "execute_result"
    }
   ],
   "source": [
    "type(close_coloumn)"
   ]
  },
  {
   "cell_type": "code",
   "execution_count": 21,
   "metadata": {},
   "outputs": [],
   "source": [
    "daily_change = data['Open'] - data['Close']"
   ]
  },
  {
   "cell_type": "code",
   "execution_count": 20,
   "metadata": {},
   "outputs": [
    {
     "data": {
      "text/html": [
       "<div>\n",
       "<style scoped>\n",
       "    .dataframe tbody tr th:only-of-type {\n",
       "        vertical-align: middle;\n",
       "    }\n",
       "\n",
       "    .dataframe tbody tr th {\n",
       "        vertical-align: top;\n",
       "    }\n",
       "\n",
       "    .dataframe thead th {\n",
       "        text-align: right;\n",
       "    }\n",
       "</style>\n",
       "<table border=\"1\" class=\"dataframe\">\n",
       "  <thead>\n",
       "    <tr style=\"text-align: right;\">\n",
       "      <th></th>\n",
       "      <th>Open</th>\n",
       "      <th>High</th>\n",
       "      <th>Low</th>\n",
       "      <th>Close</th>\n",
       "      <th>Adj Close</th>\n",
       "      <th>Volume</th>\n",
       "    </tr>\n",
       "    <tr>\n",
       "      <th>Date</th>\n",
       "      <th></th>\n",
       "      <th></th>\n",
       "      <th></th>\n",
       "      <th></th>\n",
       "      <th></th>\n",
       "      <th></th>\n",
       "    </tr>\n",
       "  </thead>\n",
       "  <tbody>\n",
       "    <tr>\n",
       "      <td>2018-07-01</td>\n",
       "      <td>23.209999</td>\n",
       "      <td>27.459999</td>\n",
       "      <td>22.879999</td>\n",
       "      <td>24.790001</td>\n",
       "      <td>24.790001</td>\n",
       "      <td>25833200</td>\n",
       "    </tr>\n",
       "    <tr>\n",
       "      <td>2018-08-01</td>\n",
       "      <td>24.750000</td>\n",
       "      <td>31.580000</td>\n",
       "      <td>24.299999</td>\n",
       "      <td>29.500000</td>\n",
       "      <td>29.500000</td>\n",
       "      <td>22695800</td>\n",
       "    </tr>\n",
       "    <tr>\n",
       "      <td>2018-09-01</td>\n",
       "      <td>29.500000</td>\n",
       "      <td>32.919998</td>\n",
       "      <td>25.799999</td>\n",
       "      <td>26.780001</td>\n",
       "      <td>26.780001</td>\n",
       "      <td>48341500</td>\n",
       "    </tr>\n",
       "    <tr>\n",
       "      <td>2018-10-01</td>\n",
       "      <td>26.900000</td>\n",
       "      <td>27.670000</td>\n",
       "      <td>20.330000</td>\n",
       "      <td>22.150000</td>\n",
       "      <td>22.150000</td>\n",
       "      <td>42620300</td>\n",
       "    </tr>\n",
       "    <tr>\n",
       "      <td>2018-11-01</td>\n",
       "      <td>22.379999</td>\n",
       "      <td>24.830000</td>\n",
       "      <td>19.309999</td>\n",
       "      <td>23.360001</td>\n",
       "      <td>23.360001</td>\n",
       "      <td>37619400</td>\n",
       "    </tr>\n",
       "  </tbody>\n",
       "</table>\n",
       "</div>"
      ],
      "text/plain": [
       "                 Open       High        Low      Close  Adj Close    Volume\n",
       "Date                                                                       \n",
       "2018-07-01  23.209999  27.459999  22.879999  24.790001  24.790001  25833200\n",
       "2018-08-01  24.750000  31.580000  24.299999  29.500000  29.500000  22695800\n",
       "2018-09-01  29.500000  32.919998  25.799999  26.780001  26.780001  48341500\n",
       "2018-10-01  26.900000  27.670000  20.330000  22.150000  22.150000  42620300\n",
       "2018-11-01  22.379999  24.830000  19.309999  23.360001  23.360001  37619400"
      ]
     },
     "execution_count": 20,
     "metadata": {},
     "output_type": "execute_result"
    }
   ],
   "source": [
    "data.head()"
   ]
  },
  {
   "cell_type": "code",
   "execution_count": 22,
   "metadata": {},
   "outputs": [
    {
     "data": {
      "text/plain": [
       "Date\n",
       "2018-07-01   -1.580002\n",
       "2018-08-01   -4.750000\n",
       "2018-09-01    2.719999\n",
       "2018-10-01    4.750000\n",
       "2018-11-01   -0.980002\n",
       "dtype: float64"
      ]
     },
     "execution_count": 22,
     "metadata": {},
     "output_type": "execute_result"
    }
   ],
   "source": [
    "daily_change.head()"
   ]
  },
  {
   "cell_type": "code",
   "execution_count": 23,
   "metadata": {},
   "outputs": [
    {
     "data": {
      "text/plain": [
       "pandas.core.series.Series"
      ]
     },
     "execution_count": 23,
     "metadata": {},
     "output_type": "execute_result"
    }
   ],
   "source": [
    "type(daily_change)"
   ]
  },
  {
   "cell_type": "code",
   "execution_count": 24,
   "metadata": {},
   "outputs": [],
   "source": [
    "daily_percentage_change = (data['Close'] - data['Open'])/data['Open'] * 100"
   ]
  },
  {
   "cell_type": "code",
   "execution_count": 25,
   "metadata": {},
   "outputs": [
    {
     "data": {
      "text/plain": [
       "Date\n",
       "2018-07-01     6.807420\n",
       "2018-08-01    19.191919\n",
       "2018-09-01    -9.220336\n",
       "2018-10-01   -17.657993\n",
       "2018-11-01     4.378919\n",
       "dtype: float64"
      ]
     },
     "execution_count": 25,
     "metadata": {},
     "output_type": "execute_result"
    }
   ],
   "source": [
    "daily_percentage_change.head()"
   ]
  },
  {
   "cell_type": "code",
   "execution_count": 26,
   "metadata": {},
   "outputs": [
    {
     "data": {
      "text/plain": [
       "24.790001"
      ]
     },
     "execution_count": 26,
     "metadata": {},
     "output_type": "execute_result"
    }
   ],
   "source": [
    "data['Close'].iloc[0]"
   ]
  },
  {
   "cell_type": "code",
   "execution_count": 27,
   "metadata": {},
   "outputs": [
    {
     "data": {
      "text/plain": [
       "78.470001"
      ]
     },
     "execution_count": 27,
     "metadata": {},
     "output_type": "execute_result"
    }
   ],
   "source": [
    "data['Close'].iloc[-1]"
   ]
  },
  {
   "cell_type": "code",
   "execution_count": 28,
   "metadata": {},
   "outputs": [],
   "source": [
    "normilize = data['Close']/data['Close'].iloc[0]"
   ]
  },
  {
   "cell_type": "code",
   "execution_count": 29,
   "metadata": {},
   "outputs": [
    {
     "data": {
      "text/plain": [
       "Date\n",
       "2018-07-01    1.000000\n",
       "2018-08-01    1.189996\n",
       "2018-09-01    1.080274\n",
       "2018-10-01    0.893505\n",
       "2018-11-01    0.942315\n",
       "2018-12-01    0.893909\n",
       "2019-01-01    1.061315\n",
       "2019-02-01    1.021380\n",
       "2019-03-01    1.105284\n",
       "2019-04-01    1.143606\n",
       "2019-05-01    1.007664\n",
       "2019-06-01    1.064945\n",
       "2019-07-01    0.950383\n",
       "2019-08-01    1.059298\n",
       "2019-09-01    1.043566\n",
       "2019-10-01    1.077047\n",
       "2019-11-01    0.956031\n",
       "2019-12-01    0.917305\n",
       "2020-01-01    0.827753\n",
       "2020-02-01    0.776926\n",
       "2020-03-01    1.027430\n",
       "2020-04-01    1.061315\n",
       "2020-05-01    1.452198\n",
       "2020-06-01    1.503429\n",
       "2020-07-01    1.615571\n",
       "2020-08-01    1.791448\n",
       "2020-09-01    1.676079\n",
       "2020-10-01    1.544574\n",
       "2020-11-01    1.653489\n",
       "2020-12-01    1.503832\n",
       "2021-01-01    1.697055\n",
       "2021-02-01    1.620815\n",
       "2021-03-01    1.809601\n",
       "2021-04-01    1.801936\n",
       "2021-05-01    1.806777\n",
       "2021-06-01    1.919322\n",
       "2021-07-01    2.042759\n",
       "2021-08-01    2.285599\n",
       "2021-09-01    2.215409\n",
       "2021-10-01    2.357402\n",
       "2021-11-01    2.668415\n",
       "2021-12-01    2.701492\n",
       "2022-01-01    2.479629\n",
       "2022-02-01    2.536103\n",
       "2022-03-01    2.727309\n",
       "2022-04-01    2.595805\n",
       "2022-05-01    2.334409\n",
       "2022-06-01    2.513917\n",
       "2022-07-01    2.730940\n",
       "2022-08-01    3.004840\n",
       "2022-09-01    2.937071\n",
       "2022-10-01    3.122227\n",
       "2022-11-01    3.165389\n",
       "2022-11-15    3.165389\n",
       "Name: Close, dtype: float64"
      ]
     },
     "execution_count": 29,
     "metadata": {},
     "output_type": "execute_result"
    }
   ],
   "source": [
    "normilize"
   ]
  },
  {
   "cell_type": "code",
   "execution_count": null,
   "metadata": {},
   "outputs": [],
   "source": []
  }
 ],
 "metadata": {
  "kernelspec": {
   "display_name": "Python 3",
   "language": "python",
   "name": "python3"
  },
  "language_info": {
   "codemirror_mode": {
    "name": "ipython",
    "version": 3
   },
   "file_extension": ".py",
   "mimetype": "text/x-python",
   "name": "python",
   "nbconvert_exporter": "python",
   "pygments_lexer": "ipython3",
   "version": "3.7.4"
  }
 },
 "nbformat": 4,
 "nbformat_minor": 2
}
