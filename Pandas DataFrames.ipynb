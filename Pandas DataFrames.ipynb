{
 "cells": [
  {
   "cell_type": "markdown",
   "metadata": {},
   "source": [
    "# Introduction to DataFrames\n",
    "\n",
    "* Read data from CSV (downloadable from Yahoo! Finance)\n",
    "* Understand data types\n",
    "* Set index\n",
    "* Parse dates\n",
    "* Use index with loc\n",
    "* Use indexing with iloc"
   ]
  },
  {
   "cell_type": "code",
   "execution_count": 2,
   "metadata": {},
   "outputs": [],
   "source": [
    "import pandas as pd"
   ]
  },
  {
   "cell_type": "code",
   "execution_count": 16,
   "metadata": {},
   "outputs": [],
   "source": [
    "data = pd.read_csv(\"BJ.csv\", index_col=0, parse_dates=True)"
   ]
  },
  {
   "cell_type": "code",
   "execution_count": 17,
   "metadata": {
    "scrolled": true
   },
   "outputs": [
    {
     "data": {
      "text/html": [
       "<div>\n",
       "<style scoped>\n",
       "    .dataframe tbody tr th:only-of-type {\n",
       "        vertical-align: middle;\n",
       "    }\n",
       "\n",
       "    .dataframe tbody tr th {\n",
       "        vertical-align: top;\n",
       "    }\n",
       "\n",
       "    .dataframe thead th {\n",
       "        text-align: right;\n",
       "    }\n",
       "</style>\n",
       "<table border=\"1\" class=\"dataframe\">\n",
       "  <thead>\n",
       "    <tr style=\"text-align: right;\">\n",
       "      <th></th>\n",
       "      <th>Open</th>\n",
       "      <th>High</th>\n",
       "      <th>Low</th>\n",
       "      <th>Close</th>\n",
       "      <th>Adj Close</th>\n",
       "      <th>Volume</th>\n",
       "    </tr>\n",
       "    <tr>\n",
       "      <th>Date</th>\n",
       "      <th></th>\n",
       "      <th></th>\n",
       "      <th></th>\n",
       "      <th></th>\n",
       "      <th></th>\n",
       "      <th></th>\n",
       "    </tr>\n",
       "  </thead>\n",
       "  <tbody>\n",
       "    <tr>\n",
       "      <td>2018-07-01</td>\n",
       "      <td>23.209999</td>\n",
       "      <td>27.459999</td>\n",
       "      <td>22.879999</td>\n",
       "      <td>24.790001</td>\n",
       "      <td>24.790001</td>\n",
       "      <td>25833200</td>\n",
       "    </tr>\n",
       "    <tr>\n",
       "      <td>2018-08-01</td>\n",
       "      <td>24.750000</td>\n",
       "      <td>31.580000</td>\n",
       "      <td>24.299999</td>\n",
       "      <td>29.500000</td>\n",
       "      <td>29.500000</td>\n",
       "      <td>22695800</td>\n",
       "    </tr>\n",
       "    <tr>\n",
       "      <td>2018-09-01</td>\n",
       "      <td>29.500000</td>\n",
       "      <td>32.919998</td>\n",
       "      <td>25.799999</td>\n",
       "      <td>26.780001</td>\n",
       "      <td>26.780001</td>\n",
       "      <td>48341500</td>\n",
       "    </tr>\n",
       "    <tr>\n",
       "      <td>2018-10-01</td>\n",
       "      <td>26.900000</td>\n",
       "      <td>27.670000</td>\n",
       "      <td>20.330000</td>\n",
       "      <td>22.150000</td>\n",
       "      <td>22.150000</td>\n",
       "      <td>42620300</td>\n",
       "    </tr>\n",
       "    <tr>\n",
       "      <td>2018-11-01</td>\n",
       "      <td>22.379999</td>\n",
       "      <td>24.830000</td>\n",
       "      <td>19.309999</td>\n",
       "      <td>23.360001</td>\n",
       "      <td>23.360001</td>\n",
       "      <td>37619400</td>\n",
       "    </tr>\n",
       "  </tbody>\n",
       "</table>\n",
       "</div>"
      ],
      "text/plain": [
       "                 Open       High        Low      Close  Adj Close    Volume\n",
       "Date                                                                       \n",
       "2018-07-01  23.209999  27.459999  22.879999  24.790001  24.790001  25833200\n",
       "2018-08-01  24.750000  31.580000  24.299999  29.500000  29.500000  22695800\n",
       "2018-09-01  29.500000  32.919998  25.799999  26.780001  26.780001  48341500\n",
       "2018-10-01  26.900000  27.670000  20.330000  22.150000  22.150000  42620300\n",
       "2018-11-01  22.379999  24.830000  19.309999  23.360001  23.360001  37619400"
      ]
     },
     "execution_count": 17,
     "metadata": {},
     "output_type": "execute_result"
    }
   ],
   "source": [
    "data.head()"
   ]
  },
  {
   "cell_type": "code",
   "execution_count": 18,
   "metadata": {},
   "outputs": [
    {
     "data": {
      "text/plain": [
       "Open         float64\n",
       "High         float64\n",
       "Low          float64\n",
       "Close        float64\n",
       "Adj Close    float64\n",
       "Volume         int64\n",
       "dtype: object"
      ]
     },
     "execution_count": 18,
     "metadata": {},
     "output_type": "execute_result"
    }
   ],
   "source": [
    "data.dtypes"
   ]
  },
  {
   "cell_type": "code",
   "execution_count": 19,
   "metadata": {},
   "outputs": [
    {
     "data": {
      "text/plain": [
       "DatetimeIndex(['2018-07-01', '2018-08-01', '2018-09-01', '2018-10-01',\n",
       "               '2018-11-01', '2018-12-01', '2019-01-01', '2019-02-01',\n",
       "               '2019-03-01', '2019-04-01', '2019-05-01', '2019-06-01',\n",
       "               '2019-07-01', '2019-08-01', '2019-09-01', '2019-10-01',\n",
       "               '2019-11-01', '2019-12-01', '2020-01-01', '2020-02-01',\n",
       "               '2020-03-01', '2020-04-01', '2020-05-01', '2020-06-01',\n",
       "               '2020-07-01', '2020-08-01', '2020-09-01', '2020-10-01',\n",
       "               '2020-11-01', '2020-12-01', '2021-01-01', '2021-02-01',\n",
       "               '2021-03-01', '2021-04-01', '2021-05-01', '2021-06-01',\n",
       "               '2021-07-01', '2021-08-01', '2021-09-01', '2021-10-01',\n",
       "               '2021-11-01', '2021-12-01', '2022-01-01', '2022-02-01',\n",
       "               '2022-03-01', '2022-04-01', '2022-05-01', '2022-06-01',\n",
       "               '2022-07-01', '2022-08-01', '2022-09-01', '2022-10-01',\n",
       "               '2022-11-01', '2022-11-15'],\n",
       "              dtype='datetime64[ns]', name='Date', freq=None)"
      ]
     },
     "execution_count": 19,
     "metadata": {},
     "output_type": "execute_result"
    }
   ],
   "source": [
    "data.index"
   ]
  },
  {
   "cell_type": "code",
   "execution_count": 20,
   "metadata": {},
   "outputs": [
    {
     "data": {
      "text/plain": [
       "Open         2.321000e+01\n",
       "High         2.746000e+01\n",
       "Low          2.288000e+01\n",
       "Close        2.479000e+01\n",
       "Adj Close    2.479000e+01\n",
       "Volume       2.583320e+07\n",
       "Name: 2018-07-01 00:00:00, dtype: float64"
      ]
     },
     "execution_count": 20,
     "metadata": {},
     "output_type": "execute_result"
    }
   ],
   "source": [
    "data.loc[\"2018-07-01\"]"
   ]
  },
  {
   "cell_type": "code",
   "execution_count": 8,
   "metadata": {},
   "outputs": [
    {
     "data": {
      "text/html": [
       "<div>\n",
       "<style scoped>\n",
       "    .dataframe tbody tr th:only-of-type {\n",
       "        vertical-align: middle;\n",
       "    }\n",
       "\n",
       "    .dataframe tbody tr th {\n",
       "        vertical-align: top;\n",
       "    }\n",
       "\n",
       "    .dataframe thead th {\n",
       "        text-align: right;\n",
       "    }\n",
       "</style>\n",
       "<table border=\"1\" class=\"dataframe\">\n",
       "  <thead>\n",
       "    <tr style=\"text-align: right;\">\n",
       "      <th></th>\n",
       "      <th>Open</th>\n",
       "      <th>High</th>\n",
       "      <th>Low</th>\n",
       "      <th>Close</th>\n",
       "      <th>Adj Close</th>\n",
       "      <th>Volume</th>\n",
       "    </tr>\n",
       "    <tr>\n",
       "      <th>Date</th>\n",
       "      <th></th>\n",
       "      <th></th>\n",
       "      <th></th>\n",
       "      <th></th>\n",
       "      <th></th>\n",
       "      <th></th>\n",
       "    </tr>\n",
       "  </thead>\n",
       "  <tbody>\n",
       "    <tr>\n",
       "      <td>2022-01-01</td>\n",
       "      <td>66.540001</td>\n",
       "      <td>66.580002</td>\n",
       "      <td>55.360001</td>\n",
       "      <td>61.470001</td>\n",
       "      <td>61.470001</td>\n",
       "      <td>26843400</td>\n",
       "    </tr>\n",
       "    <tr>\n",
       "      <td>2022-02-01</td>\n",
       "      <td>61.360001</td>\n",
       "      <td>66.321999</td>\n",
       "      <td>59.049999</td>\n",
       "      <td>62.869999</td>\n",
       "      <td>62.869999</td>\n",
       "      <td>24292500</td>\n",
       "    </tr>\n",
       "    <tr>\n",
       "      <td>2022-03-01</td>\n",
       "      <td>63.259998</td>\n",
       "      <td>68.709999</td>\n",
       "      <td>54.220001</td>\n",
       "      <td>67.610001</td>\n",
       "      <td>67.610001</td>\n",
       "      <td>44755600</td>\n",
       "    </tr>\n",
       "    <tr>\n",
       "      <td>2022-04-01</td>\n",
       "      <td>68.489998</td>\n",
       "      <td>71.000000</td>\n",
       "      <td>64.160004</td>\n",
       "      <td>64.349998</td>\n",
       "      <td>64.349998</td>\n",
       "      <td>34110400</td>\n",
       "    </tr>\n",
       "    <tr>\n",
       "      <td>2022-05-01</td>\n",
       "      <td>64.519997</td>\n",
       "      <td>67.610001</td>\n",
       "      <td>51.450001</td>\n",
       "      <td>57.869999</td>\n",
       "      <td>57.869999</td>\n",
       "      <td>53149800</td>\n",
       "    </tr>\n",
       "    <tr>\n",
       "      <td>2022-06-01</td>\n",
       "      <td>57.840000</td>\n",
       "      <td>66.900002</td>\n",
       "      <td>56.560001</td>\n",
       "      <td>62.320000</td>\n",
       "      <td>62.320000</td>\n",
       "      <td>54277400</td>\n",
       "    </tr>\n",
       "    <tr>\n",
       "      <td>2022-07-01</td>\n",
       "      <td>62.660000</td>\n",
       "      <td>71.239998</td>\n",
       "      <td>61.709999</td>\n",
       "      <td>67.699997</td>\n",
       "      <td>67.699997</td>\n",
       "      <td>28977900</td>\n",
       "    </tr>\n",
       "    <tr>\n",
       "      <td>2022-08-01</td>\n",
       "      <td>67.989998</td>\n",
       "      <td>77.470001</td>\n",
       "      <td>67.779999</td>\n",
       "      <td>74.489998</td>\n",
       "      <td>74.489998</td>\n",
       "      <td>51987500</td>\n",
       "    </tr>\n",
       "    <tr>\n",
       "      <td>2022-09-01</td>\n",
       "      <td>74.279999</td>\n",
       "      <td>79.690002</td>\n",
       "      <td>72.404999</td>\n",
       "      <td>72.809998</td>\n",
       "      <td>72.809998</td>\n",
       "      <td>41295700</td>\n",
       "    </tr>\n",
       "    <tr>\n",
       "      <td>2022-10-01</td>\n",
       "      <td>72.760002</td>\n",
       "      <td>78.459999</td>\n",
       "      <td>69.660004</td>\n",
       "      <td>77.400002</td>\n",
       "      <td>77.400002</td>\n",
       "      <td>36910000</td>\n",
       "    </tr>\n",
       "    <tr>\n",
       "      <td>2022-11-01</td>\n",
       "      <td>77.519997</td>\n",
       "      <td>80.410004</td>\n",
       "      <td>75.230003</td>\n",
       "      <td>78.470001</td>\n",
       "      <td>78.470001</td>\n",
       "      <td>18716200</td>\n",
       "    </tr>\n",
       "    <tr>\n",
       "      <td>2022-11-15</td>\n",
       "      <td>76.739998</td>\n",
       "      <td>79.010002</td>\n",
       "      <td>77.910004</td>\n",
       "      <td>78.470001</td>\n",
       "      <td>78.470001</td>\n",
       "      <td>1475758</td>\n",
       "    </tr>\n",
       "  </tbody>\n",
       "</table>\n",
       "</div>"
      ],
      "text/plain": [
       "                 Open       High        Low      Close  Adj Close    Volume\n",
       "Date                                                                       \n",
       "2022-01-01  66.540001  66.580002  55.360001  61.470001  61.470001  26843400\n",
       "2022-02-01  61.360001  66.321999  59.049999  62.869999  62.869999  24292500\n",
       "2022-03-01  63.259998  68.709999  54.220001  67.610001  67.610001  44755600\n",
       "2022-04-01  68.489998  71.000000  64.160004  64.349998  64.349998  34110400\n",
       "2022-05-01  64.519997  67.610001  51.450001  57.869999  57.869999  53149800\n",
       "2022-06-01  57.840000  66.900002  56.560001  62.320000  62.320000  54277400\n",
       "2022-07-01  62.660000  71.239998  61.709999  67.699997  67.699997  28977900\n",
       "2022-08-01  67.989998  77.470001  67.779999  74.489998  74.489998  51987500\n",
       "2022-09-01  74.279999  79.690002  72.404999  72.809998  72.809998  41295700\n",
       "2022-10-01  72.760002  78.459999  69.660004  77.400002  77.400002  36910000\n",
       "2022-11-01  77.519997  80.410004  75.230003  78.470001  78.470001  18716200\n",
       "2022-11-15  76.739998  79.010002  77.910004  78.470001  78.470001   1475758"
      ]
     },
     "execution_count": 8,
     "metadata": {},
     "output_type": "execute_result"
    }
   ],
   "source": [
    "data.loc[\"2022-01-01\":]"
   ]
  },
  {
   "cell_type": "code",
   "execution_count": 9,
   "metadata": {},
   "outputs": [
    {
     "data": {
      "text/plain": [
       "Open         2.321000e+01\n",
       "High         2.746000e+01\n",
       "Low          2.288000e+01\n",
       "Close        2.479000e+01\n",
       "Adj Close    2.479000e+01\n",
       "Volume       2.583320e+07\n",
       "Name: 2018-07-01 00:00:00, dtype: float64"
      ]
     },
     "execution_count": 9,
     "metadata": {},
     "output_type": "execute_result"
    }
   ],
   "source": [
    "data.iloc[0]"
   ]
  },
  {
   "cell_type": "code",
   "execution_count": 10,
   "metadata": {},
   "outputs": [
    {
     "data": {
      "text/html": [
       "<div>\n",
       "<style scoped>\n",
       "    .dataframe tbody tr th:only-of-type {\n",
       "        vertical-align: middle;\n",
       "    }\n",
       "\n",
       "    .dataframe tbody tr th {\n",
       "        vertical-align: top;\n",
       "    }\n",
       "\n",
       "    .dataframe thead th {\n",
       "        text-align: right;\n",
       "    }\n",
       "</style>\n",
       "<table border=\"1\" class=\"dataframe\">\n",
       "  <thead>\n",
       "    <tr style=\"text-align: right;\">\n",
       "      <th></th>\n",
       "      <th>Open</th>\n",
       "      <th>High</th>\n",
       "      <th>Low</th>\n",
       "      <th>Close</th>\n",
       "      <th>Adj Close</th>\n",
       "      <th>Volume</th>\n",
       "    </tr>\n",
       "    <tr>\n",
       "      <th>Date</th>\n",
       "      <th></th>\n",
       "      <th></th>\n",
       "      <th></th>\n",
       "      <th></th>\n",
       "      <th></th>\n",
       "      <th></th>\n",
       "    </tr>\n",
       "  </thead>\n",
       "  <tbody>\n",
       "    <tr>\n",
       "      <td>2022-08-01</td>\n",
       "      <td>67.989998</td>\n",
       "      <td>77.470001</td>\n",
       "      <td>67.779999</td>\n",
       "      <td>74.489998</td>\n",
       "      <td>74.489998</td>\n",
       "      <td>51987500</td>\n",
       "    </tr>\n",
       "    <tr>\n",
       "      <td>2022-09-01</td>\n",
       "      <td>74.279999</td>\n",
       "      <td>79.690002</td>\n",
       "      <td>72.404999</td>\n",
       "      <td>72.809998</td>\n",
       "      <td>72.809998</td>\n",
       "      <td>41295700</td>\n",
       "    </tr>\n",
       "    <tr>\n",
       "      <td>2022-10-01</td>\n",
       "      <td>72.760002</td>\n",
       "      <td>78.459999</td>\n",
       "      <td>69.660004</td>\n",
       "      <td>77.400002</td>\n",
       "      <td>77.400002</td>\n",
       "      <td>36910000</td>\n",
       "    </tr>\n",
       "    <tr>\n",
       "      <td>2022-11-01</td>\n",
       "      <td>77.519997</td>\n",
       "      <td>80.410004</td>\n",
       "      <td>75.230003</td>\n",
       "      <td>78.470001</td>\n",
       "      <td>78.470001</td>\n",
       "      <td>18716200</td>\n",
       "    </tr>\n",
       "    <tr>\n",
       "      <td>2022-11-15</td>\n",
       "      <td>76.739998</td>\n",
       "      <td>79.010002</td>\n",
       "      <td>77.910004</td>\n",
       "      <td>78.470001</td>\n",
       "      <td>78.470001</td>\n",
       "      <td>1475758</td>\n",
       "    </tr>\n",
       "  </tbody>\n",
       "</table>\n",
       "</div>"
      ],
      "text/plain": [
       "                 Open       High        Low      Close  Adj Close    Volume\n",
       "Date                                                                       \n",
       "2022-08-01  67.989998  77.470001  67.779999  74.489998  74.489998  51987500\n",
       "2022-09-01  74.279999  79.690002  72.404999  72.809998  72.809998  41295700\n",
       "2022-10-01  72.760002  78.459999  69.660004  77.400002  77.400002  36910000\n",
       "2022-11-01  77.519997  80.410004  75.230003  78.470001  78.470001  18716200\n",
       "2022-11-15  76.739998  79.010002  77.910004  78.470001  78.470001   1475758"
      ]
     },
     "execution_count": 10,
     "metadata": {},
     "output_type": "execute_result"
    }
   ],
   "source": [
    "data.tail()"
   ]
  },
  {
   "cell_type": "code",
   "execution_count": null,
   "metadata": {},
   "outputs": [],
   "source": []
  }
 ],
 "metadata": {
  "kernelspec": {
   "display_name": "Python 3",
   "language": "python",
   "name": "python3"
  },
  "language_info": {
   "codemirror_mode": {
    "name": "ipython",
    "version": 3
   },
   "file_extension": ".py",
   "mimetype": "text/x-python",
   "name": "python",
   "nbconvert_exporter": "python",
   "pygments_lexer": "ipython3",
   "version": "3.7.4"
  }
 },
 "nbformat": 4,
 "nbformat_minor": 2
}
